{
 "cells": [
  {
   "cell_type": "code",
   "execution_count": null,
   "metadata": {
    "collapsed": true
   },
   "outputs": [],
   "source": [
    "import plotly.plotly as py\n",
    "import plotly.offline as py\n",
    "from numpy.random import normal\n",
    "import csv \n",
    "# Learn about API authentication here: https://plot.ly/python/getting-started\n",
    "# Find your api_key here: https://plot.ly/settings/api\n",
    "\n",
    "gaussian_numbers = np.random.randn(1000)\n",
    "\n",
    "with open('ngoisao.csv', 'rb') as csvfile:\n",
    "    number = 0 \n",
    "    sample = csv.reader(csvfile, delimiter=' ', quotechar='|')\n",
    "    \n",
    "    for row in sample : \n",
    "        number = number + 1 \n",
    "        print(number) \n",
    "        for x in row :\n",
    "            data = [] \n",
    "            y = x.split(','); \n",
    "            for i in y : \n",
    "                data = np.append(data, [i], axis = 0) \n",
    "            data = normal(size=100)\n",
    "            plt.hist(data)\n",
    "            plt.title(\"HCN\")\n",
    "            plt.xlabel(\"Value\")\n",
    "            plt.ylabel(\"Frequency\")\n",
    "            plt.show()\n",
    "    \n",
    "\n"
   ]
  }
 ],
 "metadata": {
  "kernelspec": {
   "display_name": "Python 2",
   "language": "python",
   "name": "python2"
  },
  "language_info": {
   "codemirror_mode": {
    "name": "ipython",
    "version": 2
   },
   "file_extension": ".py",
   "mimetype": "text/x-python",
   "name": "python",
   "nbconvert_exporter": "python",
   "pygments_lexer": "ipython2",
   "version": "2.7.12"
  }
 },
 "nbformat": 4,
 "nbformat_minor": 2
}
