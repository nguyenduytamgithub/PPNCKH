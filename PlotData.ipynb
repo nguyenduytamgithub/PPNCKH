{
 "cells": [
  {
   "cell_type": "code",
   "execution_count": 46,
   "metadata": {},
   "outputs": [
    {
     "name": "stdout",
     "output_type": "stream",
     "text": [
      "[[0]]\n"
     ]
    },
    {
     "ename": "PlotlyError",
     "evalue": "Invalid 'figure_or_data' argument. Plotly will not be able to properly parse the resulting JSON. If you want to send this 'figure_or_data' to Plotly anyway (not recommended), you can set 'validate=False' as a plot option.\nHere's why you're seeing this error:\n\n'x' is not allowed in 'figure'\n\nPath To Error: ['x']\n\nValid attributes for 'figure' at path [] under parents []:\n\n    ['data', 'frames', 'layout']\n\nRun `<figure-object>.help('attribute')` on any of the above.\n'<figure-object>' is the object at []",
     "output_type": "error",
     "traceback": [
      "\u001b[0;31m---------------------------------------------------------------------------\u001b[0m",
      "\u001b[0;31mPlotlyError\u001b[0m                               Traceback (most recent call last)",
      "\u001b[0;32m<ipython-input-46-6cde4f20eb36>\u001b[0m in \u001b[0;36m<module>\u001b[0;34m()\u001b[0m\n\u001b[1;32m     14\u001b[0m     \u001b[0;32mfor\u001b[0m \u001b[0mrow\u001b[0m \u001b[0;32min\u001b[0m \u001b[0msample\u001b[0m\u001b[0;34m:\u001b[0m\u001b[0;34m\u001b[0m\u001b[0m\n\u001b[1;32m     15\u001b[0m         \u001b[0mdata\u001b[0m \u001b[0;34m=\u001b[0m \u001b[0mgo\u001b[0m\u001b[0;34m.\u001b[0m\u001b[0mHistogram\u001b[0m\u001b[0;34m(\u001b[0m \u001b[0mx\u001b[0m \u001b[0;34m=\u001b[0m \u001b[0mrow\u001b[0m\u001b[0;34m)\u001b[0m\u001b[0;34m\u001b[0m\u001b[0m\n\u001b[0;32m---> 16\u001b[0;31m         \u001b[0mpy\u001b[0m\u001b[0;34m.\u001b[0m\u001b[0miplot\u001b[0m\u001b[0;34m(\u001b[0m\u001b[0mdata\u001b[0m\u001b[0;34m)\u001b[0m\u001b[0;34m\u001b[0m\u001b[0m\n\u001b[0m\u001b[1;32m     17\u001b[0m         \u001b[0;32mprint\u001b[0m\u001b[0;34m(\u001b[0m\u001b[0mrow\u001b[0m\u001b[0;34m)\u001b[0m\u001b[0;34m\u001b[0m\u001b[0m\n\u001b[1;32m     18\u001b[0m \u001b[0;34m\u001b[0m\u001b[0m\n",
      "\u001b[0;32m/usr/local/lib/python2.7/dist-packages/plotly/offline/offline.pyc\u001b[0m in \u001b[0;36miplot\u001b[0;34m(figure_or_data, show_link, link_text, validate, image, filename, image_width, image_height, config)\u001b[0m\n\u001b[1;32m    340\u001b[0m \u001b[0;34m\u001b[0m\u001b[0m\n\u001b[1;32m    341\u001b[0m     plot_html, plotdivid, width, height = _plot_html(\n\u001b[0;32m--> 342\u001b[0;31m         \u001b[0mfigure_or_data\u001b[0m\u001b[0;34m,\u001b[0m \u001b[0mconfig\u001b[0m\u001b[0;34m,\u001b[0m \u001b[0mvalidate\u001b[0m\u001b[0;34m,\u001b[0m \u001b[0;34m'100%'\u001b[0m\u001b[0;34m,\u001b[0m \u001b[0;36m525\u001b[0m\u001b[0;34m,\u001b[0m \u001b[0mTrue\u001b[0m\u001b[0;34m\u001b[0m\u001b[0m\n\u001b[0m\u001b[1;32m    343\u001b[0m     )\n\u001b[1;32m    344\u001b[0m \u001b[0;34m\u001b[0m\u001b[0m\n",
      "\u001b[0;32m/usr/local/lib/python2.7/dist-packages/plotly/offline/offline.pyc\u001b[0m in \u001b[0;36m_plot_html\u001b[0;34m(figure_or_data, config, validate, default_width, default_height, global_requirejs)\u001b[0m\n\u001b[1;32m    159\u001b[0m     \u001b[0;32melse\u001b[0m\u001b[0;34m:\u001b[0m\u001b[0;34m\u001b[0m\u001b[0m\n\u001b[1;32m    160\u001b[0m         figure = tools.return_figure_from_figure_or_data(\n\u001b[0;32m--> 161\u001b[0;31m             \u001b[0mfigure_or_data\u001b[0m\u001b[0;34m,\u001b[0m \u001b[0mvalidate\u001b[0m\u001b[0;34m\u001b[0m\u001b[0m\n\u001b[0m\u001b[1;32m    162\u001b[0m         )\n\u001b[1;32m    163\u001b[0m \u001b[0;34m\u001b[0m\u001b[0m\n",
      "\u001b[0;32m/usr/local/lib/python2.7/dist-packages/plotly/tools.pyc\u001b[0m in \u001b[0;36mreturn_figure_from_figure_or_data\u001b[0;34m(figure_or_data, validate_figure)\u001b[0m\n\u001b[1;32m   1393\u001b[0m                                          \u001b[0;34m\"plot option.\\nHere's why you're \"\u001b[0m\u001b[0;34m\u001b[0m\u001b[0m\n\u001b[1;32m   1394\u001b[0m                                          \u001b[0;34m\"seeing this error:\\n\\n{0}\"\u001b[0m\u001b[0;34m\u001b[0m\u001b[0m\n\u001b[0;32m-> 1395\u001b[0;31m                                          \"\".format(err))\n\u001b[0m\u001b[1;32m   1396\u001b[0m         \u001b[0;32mif\u001b[0m \u001b[0;32mnot\u001b[0m \u001b[0mfigure\u001b[0m\u001b[0;34m[\u001b[0m\u001b[0;34m'data'\u001b[0m\u001b[0;34m]\u001b[0m\u001b[0;34m:\u001b[0m\u001b[0;34m\u001b[0m\u001b[0m\n\u001b[1;32m   1397\u001b[0m             raise exceptions.PlotlyEmptyDataError(\n",
      "\u001b[0;31mPlotlyError\u001b[0m: Invalid 'figure_or_data' argument. Plotly will not be able to properly parse the resulting JSON. If you want to send this 'figure_or_data' to Plotly anyway (not recommended), you can set 'validate=False' as a plot option.\nHere's why you're seeing this error:\n\n'x' is not allowed in 'figure'\n\nPath To Error: ['x']\n\nValid attributes for 'figure' at path [] under parents []:\n\n    ['data', 'frames', 'layout']\n\nRun `<figure-object>.help('attribute')` on any of the above.\n'<figure-object>' is the object at []"
     ]
    }
   ],
   "source": [
    "import plotly.plotly as py      # Every function in this module will communicate with an external plotly server\n",
    "import plotly.offline as py\n",
    "import plotly.graph_objs as go\n",
    "\n",
    "import numpy as np\n",
    "import csv \n",
    "\n",
    "a = [[0]]\n",
    "print(a) \n",
    "\n",
    "with open('hcn.csv', 'rb') as csvfile:\n",
    "    sample = csv.reader(csvfile, delimiter=' ', quotechar='|')\n",
    "\n",
    "    for row in sample:\n",
    "        data = go.Histogram( x = row) \n",
    "        py.iplot(data)\n",
    "        print(row) \n",
    "      "
   ]
  },
  {
   "cell_type": "code",
   "execution_count": 49,
   "metadata": {},
   "outputs": [
    {
     "name": "stderr",
     "output_type": "stream",
     "text": [
      "/usr/lib/python2.7/dist-packages/matplotlib/font_manager.py:273: UserWarning:\n",
      "\n",
      "Matplotlib is building the font cache using fc-list. This may take a moment.\n",
      "\n"
     ]
    }
   ],
   "source": []
  }
 ],
 "metadata": {
  "kernelspec": {
   "display_name": "Python 2",
   "language": "python",
   "name": "python2"
  },
  "language_info": {
   "codemirror_mode": {
    "name": "ipython",
    "version": 2
   },
   "file_extension": ".py",
   "mimetype": "text/x-python",
   "name": "python",
   "nbconvert_exporter": "python",
   "pygments_lexer": "ipython2",
   "version": "2.7.12"
  }
 },
 "nbformat": 4,
 "nbformat_minor": 2
}
